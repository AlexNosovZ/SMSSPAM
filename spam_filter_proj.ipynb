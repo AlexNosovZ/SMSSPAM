{
 "cells": [
  {
   "cell_type": "markdown",
   "metadata": {},
   "source": [
    "# Загрузка данных + импорты"
   ]
  },
  {
   "cell_type": "markdown",
   "metadata": {},
   "source": [
    "## Импорты"
   ]
  },
  {
   "cell_type": "code",
   "execution_count": 53,
   "metadata": {},
   "outputs": [],
   "source": [
    "#импорты\n",
    "#from nltk.tokenize import word_tokenize, RegexpTokenizer\n",
    "#from nltk.corpus import stopwords\n",
    "from sklearn.model_selection import train_test_split\n",
    "import pandas as pd\n",
    "from sklearn.naive_bayes import ComplementNB\n",
    "#from sklearn.metrics import accuracy_score,f1_score, precision_score, recall_score\n",
    "from sklearn.metrics import classification_report\n",
    "from sklearn.utils import shuffle\n",
    "from sklearn.linear_model import LogisticRegression\n",
    "from sklearn.feature_extraction.text import CountVectorizer\n",
    "from catboost import CatBoostClassifier\n",
    "from sklearn.model_selection import KFold\n"
   ]
  },
  {
   "cell_type": "code",
   "execution_count": 18,
   "metadata": {},
   "outputs": [],
   "source": [
    "FILESOURCE = 'SMSSpamCollection.txt' # файл источник\n"
   ]
  },
  {
   "cell_type": "markdown",
   "metadata": {},
   "source": [
    "## Чтение файла"
   ]
  },
  {
   "cell_type": "code",
   "execution_count": 19,
   "metadata": {},
   "outputs": [
    {
     "name": "stdout",
     "output_type": "stream",
     "text": [
      "ham\tGo until jurong \n"
     ]
    }
   ],
   "source": [
    "# читаем файл\n",
    "with open(FILESOURCE) as f: \n",
    "    full_file = f.read()\n",
    "print(full_file[:20])"
   ]
  },
  {
   "cell_type": "markdown",
   "metadata": {},
   "source": [
    "**Вывод:** данные удалось прочитать, уже неплохо"
   ]
  },
  {
   "cell_type": "markdown",
   "metadata": {},
   "source": [
    "# Предобработка"
   ]
  },
  {
   "cell_type": "code",
   "execution_count": 20,
   "metadata": {},
   "outputs": [],
   "source": [
    "# нижний регистр и разделение на строки.\n",
    "full_file = full_file.lower()\n",
    "lst = full_file.splitlines()"
   ]
  },
  {
   "cell_type": "code",
   "execution_count": 21,
   "metadata": {},
   "outputs": [],
   "source": [
    "# Отделение таргета\n",
    "lst_with_target = []\n",
    "for line in lst:\n",
    "    lst_tmp = []\n",
    "    lst_line = line.split('\\t')  \n",
    "    if lst_line[0] == 'spam' or lst_line[0] == 'ham':\n",
    "        lst_tmp.append('ok')\n",
    "        lst_tmp.append(lst_line[0])\n",
    "        lst_tmp.append(lst_line[1:])\n",
    "        lst_with_target.append(lst_tmp)\n",
    "    else:\n",
    "        lst_tmp.append('not_ok')\n",
    "        lst_tmp.append(lst_line[0])\n",
    "        lst_tmp.append(lst_line[1:])\n",
    "        lst_with_target.append(lst_tmp)"
   ]
  },
  {
   "cell_type": "code",
   "execution_count": 22,
   "metadata": {},
   "outputs": [],
   "source": [
    "# проверка на структуру файла\n",
    "for i in range(len(lst_with_target)):\n",
    "    if lst_with_target[i][0] != 'ok':\n",
    "        print(lst_with_target[i], 'is not ok')\n",
    "    if len(lst_with_target[i]) > 3:\n",
    "        print(lst_with_target[i], '>3')"
   ]
  },
  {
   "cell_type": "markdown",
   "metadata": {},
   "source": [
    "**Вывод:** структура файла соблюдается"
   ]
  },
  {
   "cell_type": "code",
   "execution_count": 23,
   "metadata": {},
   "outputs": [],
   "source": [
    "vectorizer = CountVectorizer(stop_words='english', token_pattern='[a-z]\\w+')\n",
    "X = vectorizer.fit_transform(lst)\n",
    "#vectorizer.get_feature_names_out()\n"
   ]
  },
  {
   "cell_type": "code",
   "execution_count": 24,
   "metadata": {},
   "outputs": [],
   "source": [
    "vectorizer2 = CountVectorizer(token_pattern='[0-9]\\w+')\n",
    "X2 = vectorizer2.fit_transform(lst)\n",
    "vectorizer3 = CountVectorizer(token_pattern='[§!@#$%^&*()_+-<>:\"|\\?~{}]')\n",
    "X3 = vectorizer3.fit_transform(lst)\n"
   ]
  },
  {
   "cell_type": "code",
   "execution_count": 25,
   "metadata": {},
   "outputs": [],
   "source": [
    "df = pd.DataFrame(X.toarray(), columns= vectorizer.get_feature_names_out())\n",
    "df2 = pd.DataFrame(X2.toarray(), columns= vectorizer2.get_feature_names_out())\n",
    "df3 = pd.DataFrame(X3.toarray(),columns=vectorizer3.get_feature_names_out())"
   ]
  },
  {
   "cell_type": "code",
   "execution_count": 26,
   "metadata": {},
   "outputs": [],
   "source": [
    "df['words_with_digits'] = df2.T.sum()\n",
    "df['special_symbols'] = df3.T.sum()"
   ]
  },
  {
   "cell_type": "code",
   "execution_count": 27,
   "metadata": {},
   "outputs": [],
   "source": [
    "df['target'] =  (df['spam'] > 0).apply(int)\n",
    "\n",
    "df = df.drop(['spam', 'ham'], axis=1)"
   ]
  },
  {
   "cell_type": "code",
   "execution_count": 28,
   "metadata": {},
   "outputs": [
    {
     "data": {
      "text/plain": [
       "7680"
      ]
     },
     "execution_count": 28,
     "metadata": {},
     "output_type": "execute_result"
    }
   ],
   "source": [
    "len(vectorizer.get_feature_names_out())"
   ]
  },
  {
   "cell_type": "code",
   "execution_count": 29,
   "metadata": {},
   "outputs": [],
   "source": [
    "# Создаем транспонированый df\n",
    "df_t = df.T"
   ]
  },
  {
   "cell_type": "markdown",
   "metadata": {},
   "source": [
    "## Среднее количество слов в сообщении"
   ]
  },
  {
   "cell_type": "code",
   "execution_count": 30,
   "metadata": {},
   "outputs": [
    {
     "data": {
      "text/plain": [
       "39.163319946452475"
      ]
     },
     "execution_count": 30,
     "metadata": {},
     "output_type": "execute_result"
    }
   ],
   "source": [
    "df[df['target'] == 1].T.sum().mean()"
   ]
  },
  {
   "cell_type": "code",
   "execution_count": 31,
   "metadata": {},
   "outputs": [
    {
     "data": {
      "text/plain": [
       "10.946550652579242"
      ]
     },
     "execution_count": 31,
     "metadata": {},
     "output_type": "execute_result"
    }
   ],
   "source": [
    "df[df['target'] == 0].T.sum().mean()"
   ]
  },
  {
   "cell_type": "code",
   "execution_count": 32,
   "metadata": {},
   "outputs": [
    {
     "name": "stdout",
     "output_type": "stream",
     "text": [
      "(3901, 7680) (1673, 7680) (3901,) (1673,)\n"
     ]
    }
   ],
   "source": [
    "# разделение\n",
    "features = df.drop('target',axis=1)\n",
    "target = df['target']\n",
    "features_train, features_test, target_train, target_test = train_test_split(features,target, test_size=.3, random_state=123456)\n",
    "print(features_train.shape, features_test.shape, target_train.shape, target_test.shape )"
   ]
  },
  {
   "cell_type": "code",
   "execution_count": 33,
   "metadata": {},
   "outputs": [],
   "source": [
    "df['len_diff'] = abs(df_t.sum() - features_train[target_train == 1].T.sum().mean())"
   ]
  },
  {
   "cell_type": "markdown",
   "metadata": {},
   "source": [
    "### Сбалансированный df"
   ]
  },
  {
   "cell_type": "code",
   "execution_count": 34,
   "metadata": {},
   "outputs": [],
   "source": [
    "features_train_ones = features_train[target_train == 1]"
   ]
  },
  {
   "cell_type": "code",
   "execution_count": 35,
   "metadata": {},
   "outputs": [],
   "source": [
    "features_train_zeros = features_train[target_train == 0].sample(n=features_train_ones.shape[0])"
   ]
  },
  {
   "cell_type": "code",
   "execution_count": 36,
   "metadata": {},
   "outputs": [],
   "source": [
    "features_train_balanced = pd.concat([features_train_ones, features_train_zeros])"
   ]
  },
  {
   "cell_type": "code",
   "execution_count": 37,
   "metadata": {},
   "outputs": [],
   "source": [
    "features_train_balanced = features_train_balanced.join(target_train)\n",
    "features_train_balanced = shuffle(features_train_balanced)"
   ]
  },
  {
   "cell_type": "code",
   "execution_count": 38,
   "metadata": {},
   "outputs": [],
   "source": [
    "target_train_balanced = features_train_balanced['target']"
   ]
  },
  {
   "cell_type": "code",
   "execution_count": 39,
   "metadata": {},
   "outputs": [],
   "source": [
    "features_train_balanced = features_train_balanced.drop('target', axis=1)"
   ]
  },
  {
   "cell_type": "markdown",
   "metadata": {},
   "source": [
    "# EDA"
   ]
  },
  {
   "cell_type": "markdown",
   "metadata": {},
   "source": [
    "## Баланс классов"
   ]
  },
  {
   "cell_type": "markdown",
   "metadata": {},
   "source": [
    "### Общий баланс классов"
   ]
  },
  {
   "cell_type": "code",
   "execution_count": 40,
   "metadata": {},
   "outputs": [
    {
     "data": {
      "text/plain": [
       "0.1340150699677072"
      ]
     },
     "execution_count": 40,
     "metadata": {},
     "output_type": "execute_result"
    }
   ],
   "source": [
    "df['target'].mean()"
   ]
  },
  {
   "cell_type": "markdown",
   "metadata": {},
   "source": [
    "### Баланс классов train"
   ]
  },
  {
   "cell_type": "code",
   "execution_count": 41,
   "metadata": {},
   "outputs": [
    {
     "data": {
      "text/plain": [
       "0.12971033068443988"
      ]
     },
     "execution_count": 41,
     "metadata": {},
     "output_type": "execute_result"
    }
   ],
   "source": [
    "target_train.mean()"
   ]
  },
  {
   "cell_type": "code",
   "execution_count": 42,
   "metadata": {},
   "outputs": [
    {
     "data": {
      "text/plain": [
       "0.5"
      ]
     },
     "execution_count": 42,
     "metadata": {},
     "output_type": "execute_result"
    }
   ],
   "source": [
    "target_train_balanced.mean()"
   ]
  },
  {
   "cell_type": "markdown",
   "metadata": {},
   "source": [
    "### Баланс классов test"
   ]
  },
  {
   "cell_type": "code",
   "execution_count": 43,
   "metadata": {},
   "outputs": [
    {
     "data": {
      "text/plain": [
       "0.14405260011954574"
      ]
     },
     "execution_count": 43,
     "metadata": {},
     "output_type": "execute_result"
    }
   ],
   "source": [
    "target_test.mean()"
   ]
  },
  {
   "cell_type": "markdown",
   "metadata": {},
   "source": [
    "## Поиск важных слов\n"
   ]
  },
  {
   "cell_type": "code",
   "execution_count": 44,
   "metadata": {},
   "outputs": [
    {
     "data": {
      "text/plain": [
       "special_symbols      15925.000000\n",
       "len_diff              8036.452569\n",
       "words_with_digits     2540.000000\n",
       "target                 747.000000\n",
       "free                   226.000000\n",
       "txt                    166.000000\n",
       "ur                     144.000000\n",
       "mobile                 128.000000\n",
       "text                   125.000000\n",
       "stop                   125.000000\n",
       "claim                  113.000000\n",
       "reply                  104.000000\n",
       "www                     98.000000\n",
       "prize                   93.000000\n",
       "just                    79.000000\n",
       "cash                    76.000000\n",
       "won                     76.000000\n",
       "uk                      74.000000\n",
       "send                    71.000000\n",
       "new                     69.000000\n",
       "nokia                   67.000000\n",
       "win                     64.000000\n",
       "urgent                  63.000000\n",
       "tone                    60.000000\n",
       "week                    60.000000\n",
       "dtype: float64"
      ]
     },
     "execution_count": 44,
     "metadata": {},
     "output_type": "execute_result"
    }
   ],
   "source": [
    "df[df['target'] == 1].sum().sort_values(ascending=False)[:25]"
   ]
  },
  {
   "cell_type": "code",
   "execution_count": 45,
   "metadata": {},
   "outputs": [
    {
     "data": {
      "text/plain": [
       "len_diff             132892.859684\n",
       "special_symbols       18803.000000\n",
       "words_with_digits       356.000000\n",
       "gt                      318.000000\n",
       "lt                      316.000000\n",
       "just                    297.000000\n",
       "ok                      288.000000\n",
       "ll                      266.000000\n",
       "ur                      247.000000\n",
       "know                    237.000000\n",
       "good                    235.000000\n",
       "like                    234.000000\n",
       "got                     234.000000\n",
       "come                    230.000000\n",
       "day                     217.000000\n",
       "love                    205.000000\n",
       "time                    202.000000\n",
       "going                   169.000000\n",
       "want                    165.000000\n",
       "home                    165.000000\n",
       "lor                     162.000000\n",
       "don                     159.000000\n",
       "need                    159.000000\n",
       "sorry                   157.000000\n",
       "da                      150.000000\n",
       "dtype: float64"
      ]
     },
     "execution_count": 45,
     "metadata": {},
     "output_type": "execute_result"
    }
   ],
   "source": [
    "df[df['target'] == 0].sum().sort_values(ascending=False)[:25]"
   ]
  },
  {
   "cell_type": "markdown",
   "metadata": {},
   "source": [
    "**Вывод:** Можно утверждать, что в spam-сообщениях часто употребляются такие слова как free и txt, а также есть много слов с цифрами"
   ]
  },
  {
   "cell_type": "markdown",
   "metadata": {},
   "source": [
    "## Модели"
   ]
  },
  {
   "cell_type": "code",
   "execution_count": 46,
   "metadata": {},
   "outputs": [],
   "source": [
    "cnb = ComplementNB()\n",
    "cnb_bal = ComplementNB()\n",
    "lgr = LogisticRegression(penalty='l2')\n",
    "cbc = CatBoostClassifier()"
   ]
  },
  {
   "cell_type": "code",
   "execution_count": 47,
   "metadata": {},
   "outputs": [
    {
     "name": "stderr",
     "output_type": "stream",
     "text": [
      "/usr/local/lib/python3.9/site-packages/sklearn/linear_model/_logistic.py:814: ConvergenceWarning: lbfgs failed to converge (status=1):\n",
      "STOP: TOTAL NO. of ITERATIONS REACHED LIMIT.\n",
      "\n",
      "Increase the number of iterations (max_iter) or scale the data as shown in:\n",
      "    https://scikit-learn.org/stable/modules/preprocessing.html\n",
      "Please also refer to the documentation for alternative solver options:\n",
      "    https://scikit-learn.org/stable/modules/linear_model.html#logistic-regression\n",
      "  n_iter_i = _check_optimize_result(\n"
     ]
    },
    {
     "data": {
      "text/plain": [
       "<catboost.core.CatBoostClassifier at 0x126d12c70>"
      ]
     },
     "execution_count": 47,
     "metadata": {},
     "output_type": "execute_result"
    }
   ],
   "source": [
    "cnb.fit(features_train,target_train)\n",
    "cnb_bal.fit(features_train_balanced, target_train_balanced)\n",
    "lgr.fit(features_train_balanced, target_train_balanced)\n",
    "cbc.fit(features_train_balanced, target_train_balanced, verbose=0)"
   ]
  },
  {
   "cell_type": "code",
   "execution_count": 48,
   "metadata": {},
   "outputs": [],
   "source": [
    "def print_model_rep(model_kind, model, features_train, target_train, features_test, target_test):\n",
    "    print(model_kind)\n",
    "    print('train')\n",
    "    prediction = model.predict(features_train)\n",
    "    print(classification_report(target_train, prediction))\n",
    "    print('test')\n",
    "    prediction = model.predict(features_test)\n",
    "    print(classification_report(target_test, prediction))\n",
    "\n"
   ]
  },
  {
   "cell_type": "code",
   "execution_count": 49,
   "metadata": {},
   "outputs": [
    {
     "name": "stdout",
     "output_type": "stream",
     "text": [
      "NB not balanced\n",
      "train\n",
      "              precision    recall  f1-score   support\n",
      "\n",
      "           0       1.00      0.96      0.98      3395\n",
      "           1       0.80      0.99      0.89       506\n",
      "\n",
      "    accuracy                           0.97      3901\n",
      "   macro avg       0.90      0.98      0.93      3901\n",
      "weighted avg       0.97      0.97      0.97      3901\n",
      "\n",
      "test\n",
      "              precision    recall  f1-score   support\n",
      "\n",
      "           0       1.00      0.92      0.96      1432\n",
      "           1       0.68      0.98      0.80       241\n",
      "\n",
      "    accuracy                           0.93      1673\n",
      "   macro avg       0.84      0.95      0.88      1673\n",
      "weighted avg       0.95      0.93      0.94      1673\n",
      "\n"
     ]
    }
   ],
   "source": [
    "print_model_rep('NB not balanced', cnb, features_train, target_train, features_test, target_test)"
   ]
  },
  {
   "cell_type": "code",
   "execution_count": 50,
   "metadata": {},
   "outputs": [
    {
     "name": "stdout",
     "output_type": "stream",
     "text": [
      "NB balanced\n",
      "train\n",
      "              precision    recall  f1-score   support\n",
      "\n",
      "           0       0.99      0.91      0.95       506\n",
      "           1       0.91      0.99      0.95       506\n",
      "\n",
      "    accuracy                           0.95      1012\n",
      "   macro avg       0.95      0.95      0.95      1012\n",
      "weighted avg       0.95      0.95      0.95      1012\n",
      "\n",
      "test\n",
      "              precision    recall  f1-score   support\n",
      "\n",
      "           0       1.00      0.85      0.92      1432\n",
      "           1       0.52      0.98      0.68       241\n",
      "\n",
      "    accuracy                           0.87      1673\n",
      "   macro avg       0.76      0.92      0.80      1673\n",
      "weighted avg       0.93      0.87      0.88      1673\n",
      "\n"
     ]
    }
   ],
   "source": [
    "print_model_rep('NB balanced', cnb_bal, features_train_balanced, target_train_balanced, features_test, target_test)"
   ]
  },
  {
   "cell_type": "code",
   "execution_count": 51,
   "metadata": {},
   "outputs": [
    {
     "name": "stdout",
     "output_type": "stream",
     "text": [
      "log_reg_balanced\n",
      "train\n",
      "              precision    recall  f1-score   support\n",
      "\n",
      "           0       0.99      1.00      0.99       506\n",
      "           1       1.00      0.99      0.99       506\n",
      "\n",
      "    accuracy                           0.99      1012\n",
      "   macro avg       0.99      0.99      0.99      1012\n",
      "weighted avg       0.99      0.99      0.99      1012\n",
      "\n",
      "test\n",
      "              precision    recall  f1-score   support\n",
      "\n",
      "           0       0.99      0.99      0.99      1432\n",
      "           1       0.94      0.93      0.94       241\n",
      "\n",
      "    accuracy                           0.98      1673\n",
      "   macro avg       0.96      0.96      0.96      1673\n",
      "weighted avg       0.98      0.98      0.98      1673\n",
      "\n"
     ]
    }
   ],
   "source": [
    "print_model_rep('log_reg_balanced', lgr, features_train_balanced, target_train_balanced, features_test, target_test)\n"
   ]
  },
  {
   "cell_type": "code",
   "execution_count": 52,
   "metadata": {},
   "outputs": [
    {
     "name": "stdout",
     "output_type": "stream",
     "text": [
      "catboost\n",
      "train\n",
      "              precision    recall  f1-score   support\n",
      "\n",
      "           0       1.00      1.00      1.00       506\n",
      "           1       1.00      1.00      1.00       506\n",
      "\n",
      "    accuracy                           1.00      1012\n",
      "   macro avg       1.00      1.00      1.00      1012\n",
      "weighted avg       1.00      1.00      1.00      1012\n",
      "\n",
      "test\n",
      "              precision    recall  f1-score   support\n",
      "\n",
      "           0       0.99      0.97      0.98      1432\n",
      "           1       0.84      0.94      0.89       241\n",
      "\n",
      "    accuracy                           0.97      1673\n",
      "   macro avg       0.92      0.95      0.93      1673\n",
      "weighted avg       0.97      0.97      0.97      1673\n",
      "\n"
     ]
    }
   ],
   "source": [
    "print_model_rep('catboost', cbc, features_train_balanced, target_train_balanced, features_test, target_test)\n"
   ]
  },
  {
   "cell_type": "markdown",
   "metadata": {},
   "source": [
    "## Кросс-валидация"
   ]
  },
  {
   "cell_type": "code",
   "execution_count": 55,
   "metadata": {},
   "outputs": [],
   "source": [
    "kf = KFold(n_splits=5)\n",
    "kf.get_n_splits()"
   ]
  },
  {
   "cell_type": "code",
   "execution_count": 73,
   "metadata": {},
   "outputs": [],
   "source": [
    "def get_cv_values(model_kind, model, features, target, kf ):\n",
    "    num_fold = 0\n",
    "    for train_index, test_index in kf.split(features):\n",
    "        num_fold += 1\n",
    "        print(f'Fold number {num_fold}')\n",
    "        print_model_rep(model_kind, model, features.loc[train_index], target[train_index], features.loc[test_index], target[test_index])"
   ]
  },
  {
   "cell_type": "code",
   "execution_count": 75,
   "metadata": {},
   "outputs": [
    {
     "name": "stdout",
     "output_type": "stream",
     "text": [
      "Fold number 1\n",
      "NB not balanced\n",
      "train\n",
      "              precision    recall  f1-score   support\n",
      "\n",
      "           0       1.00      0.95      0.97      3880\n",
      "           1       0.75      0.99      0.85       579\n",
      "\n",
      "    accuracy                           0.96      4459\n",
      "   macro avg       0.87      0.97      0.91      4459\n",
      "weighted avg       0.97      0.96      0.96      4459\n",
      "\n",
      "test\n",
      "              precision    recall  f1-score   support\n",
      "\n",
      "           0       1.00      0.95      0.98       947\n",
      "           1       0.79      0.99      0.88       168\n",
      "\n",
      "    accuracy                           0.96      1115\n",
      "   macro avg       0.89      0.97      0.93      1115\n",
      "weighted avg       0.97      0.96      0.96      1115\n",
      "\n",
      "Fold number 2\n",
      "NB not balanced\n",
      "train\n",
      "              precision    recall  f1-score   support\n",
      "\n",
      "           0       1.00      0.95      0.97      3853\n",
      "           1       0.75      0.98      0.85       606\n",
      "\n",
      "    accuracy                           0.95      4459\n",
      "   macro avg       0.88      0.97      0.91      4459\n",
      "weighted avg       0.96      0.95      0.96      4459\n",
      "\n",
      "test\n",
      "              precision    recall  f1-score   support\n",
      "\n",
      "           0       1.00      0.96      0.98       974\n",
      "           1       0.77      1.00      0.87       141\n",
      "\n",
      "    accuracy                           0.96      1115\n",
      "   macro avg       0.89      0.98      0.92      1115\n",
      "weighted avg       0.97      0.96      0.96      1115\n",
      "\n",
      "Fold number 3\n",
      "NB not balanced\n",
      "train\n",
      "              precision    recall  f1-score   support\n",
      "\n",
      "           0       1.00      0.95      0.98      3849\n",
      "           1       0.77      0.99      0.87       610\n",
      "\n",
      "    accuracy                           0.96      4459\n",
      "   macro avg       0.88      0.97      0.92      4459\n",
      "weighted avg       0.97      0.96      0.96      4459\n",
      "\n",
      "test\n",
      "              precision    recall  f1-score   support\n",
      "\n",
      "           0       1.00      0.94      0.97       978\n",
      "           1       0.71      0.97      0.82       137\n",
      "\n",
      "    accuracy                           0.95      1115\n",
      "   macro avg       0.85      0.96      0.90      1115\n",
      "weighted avg       0.96      0.95      0.95      1115\n",
      "\n",
      "Fold number 4\n",
      "NB not balanced\n",
      "train\n",
      "              precision    recall  f1-score   support\n",
      "\n",
      "           0       1.00      0.95      0.97      3868\n",
      "           1       0.76      0.99      0.86       591\n",
      "\n",
      "    accuracy                           0.96      4459\n",
      "   macro avg       0.88      0.97      0.92      4459\n",
      "weighted avg       0.97      0.96      0.96      4459\n",
      "\n",
      "test\n",
      "              precision    recall  f1-score   support\n",
      "\n",
      "           0       1.00      0.95      0.97       959\n",
      "           1       0.76      0.98      0.86       156\n",
      "\n",
      "    accuracy                           0.95      1115\n",
      "   macro avg       0.88      0.97      0.91      1115\n",
      "weighted avg       0.96      0.95      0.96      1115\n",
      "\n",
      "Fold number 5\n",
      "NB not balanced\n",
      "train\n",
      "              precision    recall  f1-score   support\n",
      "\n",
      "           0       1.00      0.95      0.97      3858\n",
      "           1       0.76      0.99      0.86       602\n",
      "\n",
      "    accuracy                           0.96      4460\n",
      "   macro avg       0.88      0.97      0.92      4460\n",
      "weighted avg       0.97      0.96      0.96      4460\n",
      "\n",
      "test\n",
      "              precision    recall  f1-score   support\n",
      "\n",
      "           0       1.00      0.95      0.97       969\n",
      "           1       0.75      0.99      0.85       145\n",
      "\n",
      "    accuracy                           0.96      1114\n",
      "   macro avg       0.87      0.97      0.91      1114\n",
      "weighted avg       0.97      0.96      0.96      1114\n",
      "\n"
     ]
    }
   ],
   "source": [
    "get_cv_values('NB not balanced', cnb, features, target, kf)"
   ]
  },
  {
   "cell_type": "code",
   "execution_count": 76,
   "metadata": {},
   "outputs": [
    {
     "name": "stdout",
     "output_type": "stream",
     "text": [
      "Fold number 1\n",
      "NB balanced\n",
      "train\n",
      "              precision    recall  f1-score   support\n",
      "\n",
      "           0       1.00      0.84      0.91      3880\n",
      "           1       0.48      0.99      0.65       579\n",
      "\n",
      "    accuracy                           0.86      4459\n",
      "   macro avg       0.74      0.92      0.78      4459\n",
      "weighted avg       0.93      0.86      0.88      4459\n",
      "\n",
      "test\n",
      "              precision    recall  f1-score   support\n",
      "\n",
      "           0       1.00      0.84      0.91       947\n",
      "           1       0.52      0.98      0.68       168\n",
      "\n",
      "    accuracy                           0.86      1115\n",
      "   macro avg       0.76      0.91      0.80      1115\n",
      "weighted avg       0.93      0.86      0.88      1115\n",
      "\n",
      "Fold number 2\n",
      "NB balanced\n",
      "train\n",
      "              precision    recall  f1-score   support\n",
      "\n",
      "           0       1.00      0.84      0.91      3853\n",
      "           1       0.49      0.99      0.66       606\n",
      "\n",
      "    accuracy                           0.86      4459\n",
      "   macro avg       0.75      0.91      0.79      4459\n",
      "weighted avg       0.93      0.86      0.88      4459\n",
      "\n",
      "test\n",
      "              precision    recall  f1-score   support\n",
      "\n",
      "           0       1.00      0.85      0.92       974\n",
      "           1       0.49      0.99      0.65       141\n",
      "\n",
      "    accuracy                           0.87      1115\n",
      "   macro avg       0.74      0.92      0.79      1115\n",
      "weighted avg       0.93      0.87      0.88      1115\n",
      "\n",
      "Fold number 3\n",
      "NB balanced\n",
      "train\n",
      "              precision    recall  f1-score   support\n",
      "\n",
      "           0       1.00      0.84      0.92      3849\n",
      "           1       0.50      0.99      0.67       610\n",
      "\n",
      "    accuracy                           0.86      4459\n",
      "   macro avg       0.75      0.92      0.79      4459\n",
      "weighted avg       0.93      0.86      0.88      4459\n",
      "\n",
      "test\n",
      "              precision    recall  f1-score   support\n",
      "\n",
      "           0       0.99      0.84      0.91       978\n",
      "           1       0.45      0.96      0.61       137\n",
      "\n",
      "    accuracy                           0.85      1115\n",
      "   macro avg       0.72      0.90      0.76      1115\n",
      "weighted avg       0.93      0.85      0.87      1115\n",
      "\n",
      "Fold number 4\n",
      "NB balanced\n",
      "train\n",
      "              precision    recall  f1-score   support\n",
      "\n",
      "           0       1.00      0.84      0.91      3868\n",
      "           1       0.49      0.98      0.65       591\n",
      "\n",
      "    accuracy                           0.86      4459\n",
      "   macro avg       0.74      0.91      0.78      4459\n",
      "weighted avg       0.93      0.86      0.88      4459\n",
      "\n",
      "test\n",
      "              precision    recall  f1-score   support\n",
      "\n",
      "           0       1.00      0.84      0.91       959\n",
      "           1       0.51      1.00      0.67       156\n",
      "\n",
      "    accuracy                           0.86      1115\n",
      "   macro avg       0.75      0.92      0.79      1115\n",
      "weighted avg       0.93      0.86      0.88      1115\n",
      "\n",
      "Fold number 5\n",
      "NB balanced\n",
      "train\n",
      "              precision    recall  f1-score   support\n",
      "\n",
      "           0       1.00      0.84      0.91      3858\n",
      "           1       0.49      0.99      0.66       602\n",
      "\n",
      "    accuracy                           0.86      4460\n",
      "   macro avg       0.75      0.91      0.79      4460\n",
      "weighted avg       0.93      0.86      0.88      4460\n",
      "\n",
      "test\n",
      "              precision    recall  f1-score   support\n",
      "\n",
      "           0       1.00      0.84      0.92       969\n",
      "           1       0.49      1.00      0.66       145\n",
      "\n",
      "    accuracy                           0.86      1114\n",
      "   macro avg       0.74      0.92      0.79      1114\n",
      "weighted avg       0.93      0.86      0.88      1114\n",
      "\n"
     ]
    }
   ],
   "source": [
    "get_cv_values('NB balanced', cnb_bal, features, target, kf)"
   ]
  },
  {
   "cell_type": "code",
   "execution_count": 77,
   "metadata": {},
   "outputs": [
    {
     "name": "stdout",
     "output_type": "stream",
     "text": [
      "Fold number 1\n",
      "log_reg_balanced\n",
      "train\n",
      "              precision    recall  f1-score   support\n",
      "\n",
      "           0       1.00      0.99      0.99      3880\n",
      "           1       0.91      0.97      0.94       579\n",
      "\n",
      "    accuracy                           0.98      4459\n",
      "   macro avg       0.95      0.98      0.97      4459\n",
      "weighted avg       0.98      0.98      0.98      4459\n",
      "\n",
      "test\n",
      "              precision    recall  f1-score   support\n",
      "\n",
      "           0       0.99      0.99      0.99       947\n",
      "           1       0.94      0.97      0.96       168\n",
      "\n",
      "    accuracy                           0.99      1115\n",
      "   macro avg       0.97      0.98      0.97      1115\n",
      "weighted avg       0.99      0.99      0.99      1115\n",
      "\n",
      "Fold number 2\n",
      "log_reg_balanced\n",
      "train\n",
      "              precision    recall  f1-score   support\n",
      "\n",
      "           0       1.00      0.99      0.99      3853\n",
      "           1       0.92      0.97      0.95       606\n",
      "\n",
      "    accuracy                           0.98      4459\n",
      "   macro avg       0.96      0.98      0.97      4459\n",
      "weighted avg       0.99      0.98      0.98      4459\n",
      "\n",
      "test\n",
      "              precision    recall  f1-score   support\n",
      "\n",
      "           0       1.00      0.98      0.99       974\n",
      "           1       0.89      0.99      0.94       141\n",
      "\n",
      "    accuracy                           0.98      1115\n",
      "   macro avg       0.94      0.98      0.96      1115\n",
      "weighted avg       0.98      0.98      0.98      1115\n",
      "\n",
      "Fold number 3\n",
      "log_reg_balanced\n",
      "train\n",
      "              precision    recall  f1-score   support\n",
      "\n",
      "           0       1.00      0.99      0.99      3849\n",
      "           1       0.93      0.97      0.95       610\n",
      "\n",
      "    accuracy                           0.99      4459\n",
      "   macro avg       0.96      0.98      0.97      4459\n",
      "weighted avg       0.99      0.99      0.99      4459\n",
      "\n",
      "test\n",
      "              precision    recall  f1-score   support\n",
      "\n",
      "           0       0.99      0.98      0.99       978\n",
      "           1       0.88      0.96      0.92       137\n",
      "\n",
      "    accuracy                           0.98      1115\n",
      "   macro avg       0.94      0.97      0.95      1115\n",
      "weighted avg       0.98      0.98      0.98      1115\n",
      "\n",
      "Fold number 4\n",
      "log_reg_balanced\n",
      "train\n",
      "              precision    recall  f1-score   support\n",
      "\n",
      "           0       1.00      0.98      0.99      3868\n",
      "           1       0.91      0.98      0.94       591\n",
      "\n",
      "    accuracy                           0.98      4459\n",
      "   macro avg       0.95      0.98      0.97      4459\n",
      "weighted avg       0.98      0.98      0.98      4459\n",
      "\n",
      "test\n",
      "              precision    recall  f1-score   support\n",
      "\n",
      "           0       0.99      0.99      0.99       959\n",
      "           1       0.96      0.96      0.96       156\n",
      "\n",
      "    accuracy                           0.99      1115\n",
      "   macro avg       0.97      0.97      0.97      1115\n",
      "weighted avg       0.99      0.99      0.99      1115\n",
      "\n",
      "Fold number 5\n",
      "log_reg_balanced\n",
      "train\n",
      "              precision    recall  f1-score   support\n",
      "\n",
      "           0       1.00      0.99      0.99      3858\n",
      "           1       0.92      0.97      0.94       602\n",
      "\n",
      "    accuracy                           0.98      4460\n",
      "   macro avg       0.96      0.98      0.97      4460\n",
      "weighted avg       0.98      0.98      0.98      4460\n",
      "\n",
      "test\n",
      "              precision    recall  f1-score   support\n",
      "\n",
      "           0       1.00      0.99      0.99       969\n",
      "           1       0.91      0.99      0.95       145\n",
      "\n",
      "    accuracy                           0.99      1114\n",
      "   macro avg       0.95      0.99      0.97      1114\n",
      "weighted avg       0.99      0.99      0.99      1114\n",
      "\n"
     ]
    }
   ],
   "source": [
    "get_cv_values('log_reg_balanced', lgr, features, target, kf)\n",
    "\n"
   ]
  },
  {
   "cell_type": "code",
   "execution_count": 78,
   "metadata": {},
   "outputs": [
    {
     "name": "stdout",
     "output_type": "stream",
     "text": [
      "Fold number 1\n",
      "catboost\n",
      "train\n",
      "              precision    recall  f1-score   support\n",
      "\n",
      "           0       1.00      0.97      0.98      3880\n",
      "           1       0.84      0.98      0.91       579\n",
      "\n",
      "    accuracy                           0.97      4459\n",
      "   macro avg       0.92      0.98      0.95      4459\n",
      "weighted avg       0.98      0.97      0.97      4459\n",
      "\n",
      "test\n",
      "              precision    recall  f1-score   support\n",
      "\n",
      "           0       1.00      0.98      0.99       947\n",
      "           1       0.92      0.98      0.95       168\n",
      "\n",
      "    accuracy                           0.98      1115\n",
      "   macro avg       0.96      0.98      0.97      1115\n",
      "weighted avg       0.98      0.98      0.98      1115\n",
      "\n",
      "Fold number 2\n",
      "catboost\n",
      "train\n",
      "              precision    recall  f1-score   support\n",
      "\n",
      "           0       1.00      0.98      0.99      3853\n",
      "           1       0.87      0.98      0.92       606\n",
      "\n",
      "    accuracy                           0.98      4459\n",
      "   macro avg       0.93      0.98      0.95      4459\n",
      "weighted avg       0.98      0.98      0.98      4459\n",
      "\n",
      "test\n",
      "              precision    recall  f1-score   support\n",
      "\n",
      "           0       1.00      0.97      0.98       974\n",
      "           1       0.83      0.99      0.90       141\n",
      "\n",
      "    accuracy                           0.97      1115\n",
      "   macro avg       0.92      0.98      0.94      1115\n",
      "weighted avg       0.98      0.97      0.97      1115\n",
      "\n",
      "Fold number 3\n",
      "catboost\n",
      "train\n",
      "              precision    recall  f1-score   support\n",
      "\n",
      "           0       1.00      0.98      0.99      3849\n",
      "           1       0.86      0.98      0.92       610\n",
      "\n",
      "    accuracy                           0.98      4459\n",
      "   macro avg       0.93      0.98      0.95      4459\n",
      "weighted avg       0.98      0.98      0.98      4459\n",
      "\n",
      "test\n",
      "              precision    recall  f1-score   support\n",
      "\n",
      "           0       0.99      0.97      0.98       978\n",
      "           1       0.84      0.96      0.89       137\n",
      "\n",
      "    accuracy                           0.97      1115\n",
      "   macro avg       0.92      0.97      0.94      1115\n",
      "weighted avg       0.98      0.97      0.97      1115\n",
      "\n",
      "Fold number 4\n",
      "catboost\n",
      "train\n",
      "              precision    recall  f1-score   support\n",
      "\n",
      "           0       1.00      0.98      0.99      3868\n",
      "           1       0.86      0.98      0.91       591\n",
      "\n",
      "    accuracy                           0.98      4459\n",
      "   macro avg       0.93      0.98      0.95      4459\n",
      "weighted avg       0.98      0.98      0.98      4459\n",
      "\n",
      "test\n",
      "              precision    recall  f1-score   support\n",
      "\n",
      "           0       1.00      0.97      0.99       959\n",
      "           1       0.87      0.99      0.92       156\n",
      "\n",
      "    accuracy                           0.98      1115\n",
      "   macro avg       0.93      0.98      0.95      1115\n",
      "weighted avg       0.98      0.98      0.98      1115\n",
      "\n",
      "Fold number 5\n",
      "catboost\n",
      "train\n",
      "              precision    recall  f1-score   support\n",
      "\n",
      "           0       1.00      0.98      0.99      3858\n",
      "           1       0.86      0.98      0.92       602\n",
      "\n",
      "    accuracy                           0.98      4460\n",
      "   macro avg       0.93      0.98      0.95      4460\n",
      "weighted avg       0.98      0.98      0.98      4460\n",
      "\n",
      "test\n",
      "              precision    recall  f1-score   support\n",
      "\n",
      "           0       1.00      0.97      0.98       969\n",
      "           1       0.84      0.98      0.90       145\n",
      "\n",
      "    accuracy                           0.97      1114\n",
      "   macro avg       0.92      0.98      0.94      1114\n",
      "weighted avg       0.98      0.97      0.97      1114\n",
      "\n"
     ]
    }
   ],
   "source": [
    "get_cv_values('catboost', cbc, features, target, kf)"
   ]
  },
  {
   "cell_type": "markdown",
   "metadata": {},
   "source": [
    "**Вывод** нам удалось сделать модель, которая в некоторой степени умеет классифицировать сообщения на SPAM и HAM"
   ]
  },
  {
   "cell_type": "markdown",
   "metadata": {},
   "source": []
  }
 ],
 "metadata": {
  "interpreter": {
   "hash": "aee8b7b246df8f9039afb4144a1f6fd8d2ca17a180786b69acc140d282b71a49"
  },
  "kernelspec": {
   "display_name": "Python 3.9.10 64-bit",
   "language": "python",
   "name": "python3"
  },
  "language_info": {
   "codemirror_mode": {
    "name": "ipython",
    "version": 3
   },
   "file_extension": ".py",
   "mimetype": "text/x-python",
   "name": "python",
   "nbconvert_exporter": "python",
   "pygments_lexer": "ipython3",
   "version": "3.9.10"
  },
  "orig_nbformat": 4
 },
 "nbformat": 4,
 "nbformat_minor": 2
}
