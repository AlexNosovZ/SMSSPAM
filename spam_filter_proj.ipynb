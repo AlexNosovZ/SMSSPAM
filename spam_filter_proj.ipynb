{
 "cells": [
  {
   "cell_type": "markdown",
   "metadata": {},
   "source": [
    "# Загрузка данных + импорты"
   ]
  },
  {
   "cell_type": "markdown",
   "metadata": {},
   "source": [
    "## Импорты"
   ]
  },
  {
   "cell_type": "code",
   "execution_count": 12,
   "metadata": {},
   "outputs": [],
   "source": [
    "#импорты\n",
    "from nltk.tokenize import word_tokenize\n",
    "from nltk.corpus import stopwords\n",
    "from sklearn.model_selection import train_test_split\n",
    "import pandas as pd\n",
    "from sklearn.naive_bayes import ComplementNB\n",
    "from sklearn.metrics import accuracy_score,f1_score, precision_score, recall_score\n"
   ]
  },
  {
   "cell_type": "code",
   "execution_count": 13,
   "metadata": {},
   "outputs": [],
   "source": [
    "FILESOURCE = 'SMSSpamCollection.txt' # файл источник\n"
   ]
  },
  {
   "cell_type": "markdown",
   "metadata": {},
   "source": [
    "## Чтение файла"
   ]
  },
  {
   "cell_type": "code",
   "execution_count": 14,
   "metadata": {},
   "outputs": [
    {
     "name": "stdout",
     "output_type": "stream",
     "text": [
      "ham\tGo until jurong \n"
     ]
    }
   ],
   "source": [
    "# читаем файл\n",
    "with open(FILESOURCE) as f: \n",
    "    full_file = f.read()\n",
    "print(full_file[:20])"
   ]
  },
  {
   "cell_type": "markdown",
   "metadata": {},
   "source": [
    "**Вывод:** данные удалось прочитать, уже неплохо"
   ]
  },
  {
   "cell_type": "markdown",
   "metadata": {},
   "source": [
    "# Предобработка"
   ]
  },
  {
   "cell_type": "code",
   "execution_count": 15,
   "metadata": {},
   "outputs": [],
   "source": [
    "# нижний регистр и разделение на строки.\n",
    "full_file = full_file.lower()\n",
    "lst = full_file.splitlines()"
   ]
  },
  {
   "cell_type": "code",
   "execution_count": 16,
   "metadata": {},
   "outputs": [],
   "source": [
    "# Отделение таргета\n",
    "lst_with_target = []\n",
    "for line in lst:\n",
    "    lst_tmp = []\n",
    "    lst_line = line.split('\\t')  \n",
    "    if lst_line[0] == 'spam' or lst_line[0] == 'ham':\n",
    "        lst_tmp.append('ok')\n",
    "        lst_tmp.append(lst_line[0])\n",
    "        lst_tmp.append(lst_line[1:])\n",
    "        lst_with_target.append(lst_tmp)\n",
    "    else:\n",
    "        lst_tmp.append('not_ok')\n",
    "        lst_tmp.append(lst_line[0])\n",
    "        lst_tmp.append(lst_line[1:])\n",
    "        lst_with_target.append(lst_tmp)"
   ]
  },
  {
   "cell_type": "code",
   "execution_count": 17,
   "metadata": {},
   "outputs": [],
   "source": [
    "# проверка на структуру файла\n",
    "for i in range(len(lst_with_target)):\n",
    "    if lst_with_target[i][0] != 'ok':\n",
    "        print(lst_with_target[i], 'is not ok')\n",
    "    if len(lst_with_target[i]) > 3:\n",
    "        print(lst_with_target[i], '>3')"
   ]
  },
  {
   "cell_type": "markdown",
   "metadata": {},
   "source": [
    "**Вывод:** структура файла соблюдается"
   ]
  },
  {
   "cell_type": "code",
   "execution_count": 18,
   "metadata": {},
   "outputs": [],
   "source": [
    "# Составим множество всех слов в тексте кроме служебных и разобьем строки на отдельные слова\n",
    "stopwords = set(stopwords.words('english'))\n",
    "total_words = set()\n",
    "for i in range(len(lst_with_target)):\n",
    "    lst_with_target[i].append(word_tokenize(lst_with_target[i][2][0]))\n",
    "    total_words.update(set(word_tokenize(lst_with_target[i][2][0])).difference(stopwords))"
   ]
  },
  {
   "cell_type": "code",
   "execution_count": 53,
   "metadata": {},
   "outputs": [
    {
     "name": "stdout",
     "output_type": "stream",
     "text": [
      "9311\n"
     ]
    }
   ],
   "source": [
    "# Превратим  наше множество в list\n",
    "total_words_lst = list(total_words)\n",
    "print(len(total_words_lst))"
   ]
  },
  {
   "cell_type": "code",
   "execution_count": 41,
   "metadata": {},
   "outputs": [],
   "source": [
    "# Заполнение таргета\n",
    "total_dct = {'target': []}\n",
    "for i in range(len(lst_with_target)):\n",
    "    if lst_with_target[i][1] == 'spam':\n",
    "        total_dct['target'].append(1)\n",
    "    else:\n",
    "        total_dct['target'].append(0)\n"
   ]
  },
  {
   "cell_type": "code",
   "execution_count": 42,
   "metadata": {},
   "outputs": [],
   "source": [
    "# Заполнение признаков для DF\n",
    "for word in total_words_lst:    \n",
    "    total_dct[word] = []\n",
    "\n",
    "    for i in range(len(lst_with_target)):\n",
    "        cnt = 0\n",
    "        cnt = lst_with_target[i][3].count(word)\n",
    "        total_dct[word].append(cnt)\n"
   ]
  },
  {
   "cell_type": "code",
   "execution_count": 43,
   "metadata": {},
   "outputs": [
    {
     "data": {
      "text/html": [
       "<div>\n",
       "<style scoped>\n",
       "    .dataframe tbody tr th:only-of-type {\n",
       "        vertical-align: middle;\n",
       "    }\n",
       "\n",
       "    .dataframe tbody tr th {\n",
       "        vertical-align: top;\n",
       "    }\n",
       "\n",
       "    .dataframe thead th {\n",
       "        text-align: right;\n",
       "    }\n",
       "</style>\n",
       "<table border=\"1\" class=\"dataframe\">\n",
       "  <thead>\n",
       "    <tr style=\"text-align: right;\">\n",
       "      <th></th>\n",
       "      <th>target</th>\n",
       "      <th>you'ld</th>\n",
       "      <th>administrator</th>\n",
       "      <th>copy</th>\n",
       "      <th>joined.hope</th>\n",
       "      <th>wifes</th>\n",
       "      <th>scratches</th>\n",
       "      <th>tim</th>\n",
       "      <th>1-u</th>\n",
       "      <th>natalja</th>\n",
       "      <th>...</th>\n",
       "      <th>first-</th>\n",
       "      <th>sugababes</th>\n",
       "      <th>nuclear</th>\n",
       "      <th>obey</th>\n",
       "      <th>hahaha</th>\n",
       "      <th>accommodation</th>\n",
       "      <th>vote</th>\n",
       "      <th>09066368753</th>\n",
       "      <th>68866.</th>\n",
       "      <th>royal</th>\n",
       "    </tr>\n",
       "  </thead>\n",
       "  <tbody>\n",
       "    <tr>\n",
       "      <th>0</th>\n",
       "      <td>0</td>\n",
       "      <td>0</td>\n",
       "      <td>0</td>\n",
       "      <td>0</td>\n",
       "      <td>0</td>\n",
       "      <td>0</td>\n",
       "      <td>0</td>\n",
       "      <td>0</td>\n",
       "      <td>0</td>\n",
       "      <td>0</td>\n",
       "      <td>...</td>\n",
       "      <td>0</td>\n",
       "      <td>0</td>\n",
       "      <td>0</td>\n",
       "      <td>0</td>\n",
       "      <td>0</td>\n",
       "      <td>0</td>\n",
       "      <td>0</td>\n",
       "      <td>0</td>\n",
       "      <td>0</td>\n",
       "      <td>0</td>\n",
       "    </tr>\n",
       "    <tr>\n",
       "      <th>1</th>\n",
       "      <td>0</td>\n",
       "      <td>0</td>\n",
       "      <td>0</td>\n",
       "      <td>0</td>\n",
       "      <td>0</td>\n",
       "      <td>0</td>\n",
       "      <td>0</td>\n",
       "      <td>0</td>\n",
       "      <td>0</td>\n",
       "      <td>0</td>\n",
       "      <td>...</td>\n",
       "      <td>0</td>\n",
       "      <td>0</td>\n",
       "      <td>0</td>\n",
       "      <td>0</td>\n",
       "      <td>0</td>\n",
       "      <td>0</td>\n",
       "      <td>0</td>\n",
       "      <td>0</td>\n",
       "      <td>0</td>\n",
       "      <td>0</td>\n",
       "    </tr>\n",
       "    <tr>\n",
       "      <th>2</th>\n",
       "      <td>1</td>\n",
       "      <td>0</td>\n",
       "      <td>0</td>\n",
       "      <td>0</td>\n",
       "      <td>0</td>\n",
       "      <td>0</td>\n",
       "      <td>0</td>\n",
       "      <td>0</td>\n",
       "      <td>0</td>\n",
       "      <td>0</td>\n",
       "      <td>...</td>\n",
       "      <td>0</td>\n",
       "      <td>0</td>\n",
       "      <td>0</td>\n",
       "      <td>0</td>\n",
       "      <td>0</td>\n",
       "      <td>0</td>\n",
       "      <td>0</td>\n",
       "      <td>0</td>\n",
       "      <td>0</td>\n",
       "      <td>0</td>\n",
       "    </tr>\n",
       "    <tr>\n",
       "      <th>3</th>\n",
       "      <td>0</td>\n",
       "      <td>0</td>\n",
       "      <td>0</td>\n",
       "      <td>0</td>\n",
       "      <td>0</td>\n",
       "      <td>0</td>\n",
       "      <td>0</td>\n",
       "      <td>0</td>\n",
       "      <td>0</td>\n",
       "      <td>0</td>\n",
       "      <td>...</td>\n",
       "      <td>0</td>\n",
       "      <td>0</td>\n",
       "      <td>0</td>\n",
       "      <td>0</td>\n",
       "      <td>0</td>\n",
       "      <td>0</td>\n",
       "      <td>0</td>\n",
       "      <td>0</td>\n",
       "      <td>0</td>\n",
       "      <td>0</td>\n",
       "    </tr>\n",
       "    <tr>\n",
       "      <th>4</th>\n",
       "      <td>0</td>\n",
       "      <td>0</td>\n",
       "      <td>0</td>\n",
       "      <td>0</td>\n",
       "      <td>0</td>\n",
       "      <td>0</td>\n",
       "      <td>0</td>\n",
       "      <td>0</td>\n",
       "      <td>0</td>\n",
       "      <td>0</td>\n",
       "      <td>...</td>\n",
       "      <td>0</td>\n",
       "      <td>0</td>\n",
       "      <td>0</td>\n",
       "      <td>0</td>\n",
       "      <td>0</td>\n",
       "      <td>0</td>\n",
       "      <td>0</td>\n",
       "      <td>0</td>\n",
       "      <td>0</td>\n",
       "      <td>0</td>\n",
       "    </tr>\n",
       "  </tbody>\n",
       "</table>\n",
       "<p>5 rows × 9312 columns</p>\n",
       "</div>"
      ],
      "text/plain": [
       "   target  you'ld  administrator  copy  joined.hope  wifes  scratches  tim  \\\n",
       "0       0       0              0     0            0      0          0    0   \n",
       "1       0       0              0     0            0      0          0    0   \n",
       "2       1       0              0     0            0      0          0    0   \n",
       "3       0       0              0     0            0      0          0    0   \n",
       "4       0       0              0     0            0      0          0    0   \n",
       "\n",
       "   1-u  natalja  ...  first-  sugababes  nuclear  obey  hahaha  accommodation  \\\n",
       "0    0        0  ...       0          0        0     0       0              0   \n",
       "1    0        0  ...       0          0        0     0       0              0   \n",
       "2    0        0  ...       0          0        0     0       0              0   \n",
       "3    0        0  ...       0          0        0     0       0              0   \n",
       "4    0        0  ...       0          0        0     0       0              0   \n",
       "\n",
       "   vote  09066368753  68866.  royal  \n",
       "0     0            0       0      0  \n",
       "1     0            0       0      0  \n",
       "2     0            0       0      0  \n",
       "3     0            0       0      0  \n",
       "4     0            0       0      0  \n",
       "\n",
       "[5 rows x 9312 columns]"
      ]
     },
     "execution_count": 43,
     "metadata": {},
     "output_type": "execute_result"
    }
   ],
   "source": [
    "# Создаем df\n",
    "df = pd.DataFrame(total_dct)\n",
    "df.head()"
   ]
  },
  {
   "cell_type": "code",
   "execution_count": 44,
   "metadata": {},
   "outputs": [],
   "source": [
    "# Создаем транспонированый df\n",
    "df_t = df.T"
   ]
  },
  {
   "cell_type": "code",
   "execution_count": 52,
   "metadata": {},
   "outputs": [
    {
     "name": "stdout",
     "output_type": "stream",
     "text": [
      "(3901, 9311) (1673, 9311) (3901,) (1673,)\n"
     ]
    }
   ],
   "source": [
    "# разделение\n",
    "features = df.drop('target',axis=1)\n",
    "target = df['target']\n",
    "features_train, features_test, target_train, target_test = train_test_split(features,target, test_size=.3, random_state=123456)\n",
    "print(features_train.shape, features_test.shape, target_train.shape, target_test.shape )"
   ]
  },
  {
   "cell_type": "markdown",
   "metadata": {},
   "source": [
    "# EDA"
   ]
  },
  {
   "cell_type": "markdown",
   "metadata": {},
   "source": [
    "## Баланс классов"
   ]
  },
  {
   "cell_type": "markdown",
   "metadata": {},
   "source": [
    "### Общий баланс классов"
   ]
  },
  {
   "cell_type": "code",
   "execution_count": 48,
   "metadata": {},
   "outputs": [
    {
     "data": {
      "text/plain": [
       "0.1340150699677072"
      ]
     },
     "execution_count": 48,
     "metadata": {},
     "output_type": "execute_result"
    }
   ],
   "source": [
    "df['target'].mean()"
   ]
  },
  {
   "cell_type": "markdown",
   "metadata": {},
   "source": [
    "### Баланс классов train"
   ]
  },
  {
   "cell_type": "code",
   "execution_count": 54,
   "metadata": {},
   "outputs": [
    {
     "data": {
      "text/plain": [
       "0.12971033068443988"
      ]
     },
     "execution_count": 54,
     "metadata": {},
     "output_type": "execute_result"
    }
   ],
   "source": [
    "target_train.mean()"
   ]
  },
  {
   "cell_type": "markdown",
   "metadata": {},
   "source": [
    "### Баланс классов test"
   ]
  },
  {
   "cell_type": "code",
   "execution_count": 55,
   "metadata": {},
   "outputs": [
    {
     "data": {
      "text/plain": [
       "0.14405260011954574"
      ]
     },
     "execution_count": 55,
     "metadata": {},
     "output_type": "execute_result"
    }
   ],
   "source": [
    "target_test.mean()"
   ]
  },
  {
   "cell_type": "markdown",
   "metadata": {},
   "source": [
    "## Поиск важных слов\n"
   ]
  },
  {
   "cell_type": "code",
   "execution_count": 61,
   "metadata": {},
   "outputs": [
    {
     "data": {
      "text/plain": [
       ".         924\n",
       "target    747\n",
       "!         545\n",
       ",         378\n",
       "call      346\n",
       "free      219\n",
       "&         178\n",
       "?         175\n",
       "2         174\n",
       ":         163\n",
       "txt       156\n",
       "ur        144\n",
       "u         142\n",
       "mobile    123\n",
       "text      121\n",
       "4         120\n",
       "stop      118\n",
       "*         115\n",
       "claim     113\n",
       "reply     104\n",
       "prize      92\n",
       "get        84\n",
       "'s         72\n",
       "new        69\n",
       "send       69\n",
       "dtype: int64"
      ]
     },
     "execution_count": 61,
     "metadata": {},
     "output_type": "execute_result"
    }
   ],
   "source": [
    "df[df['target'] == 1].sum().sort_values(ascending=False)[:25]"
   ]
  },
  {
   "cell_type": "code",
   "execution_count": 66,
   "metadata": {},
   "outputs": [
    {
     "data": {
      "text/plain": [
       "0.61794500723589"
      ]
     },
     "execution_count": 66,
     "metadata": {},
     "output_type": "execute_result"
    }
   ],
   "source": [
    "df[(df['call'] != 0) | (df['free'] != 0 )]['target'].mean()"
   ]
  },
  {
   "cell_type": "markdown",
   "metadata": {},
   "source": [
    "**Вывод:** Можно утверждать, что в spam-сообщениях часто употребляются такие слова как call и free "
   ]
  },
  {
   "cell_type": "markdown",
   "metadata": {},
   "source": [
    "## Модель"
   ]
  },
  {
   "cell_type": "code",
   "execution_count": 67,
   "metadata": {},
   "outputs": [],
   "source": [
    "cnb = ComplementNB()"
   ]
  },
  {
   "cell_type": "code",
   "execution_count": 68,
   "metadata": {},
   "outputs": [
    {
     "data": {
      "text/plain": [
       "ComplementNB()"
      ]
     },
     "execution_count": 68,
     "metadata": {},
     "output_type": "execute_result"
    }
   ],
   "source": [
    "cnb.fit(features_train,target_train)"
   ]
  },
  {
   "cell_type": "code",
   "execution_count": 82,
   "metadata": {},
   "outputs": [
    {
     "name": "stdout",
     "output_type": "stream",
     "text": [
      "accuracy_train = 0.9833376057421174 \n",
      "precision_train = 0.903107861060329 \n",
      "recall_train = 0.9762845849802372\n",
      "f1_train = 0.9382716049382717\n"
     ]
    }
   ],
   "source": [
    "prediction_train = cnb.predict(features_train)\n",
    "accuracy_train = accuracy_score(target_train, prediction_train)\n",
    "precision_train = precision_score(target_train, prediction_train)\n",
    "recall_train = recall_score(target_train, prediction_train)\n",
    "f1_train = f1_score(target_train, prediction_train)\n",
    "print(f'accuracy_train = {accuracy_train} \\n\\\n",
    "precision_train = {precision_train} \\n\\\n",
    "recall_train = {recall_train}\\n\\\n",
    "f1_train = {f1_train}')\n"
   ]
  },
  {
   "cell_type": "code",
   "execution_count": 84,
   "metadata": {},
   "outputs": [
    {
     "name": "stdout",
     "output_type": "stream",
     "text": [
      "accuracy_test = 0.9521817095038853 \n",
      "precision_test = 0.7747440273037542 \n",
      "recall_test = 0.941908713692946\n",
      "f1_test = 0.850187265917603\n"
     ]
    }
   ],
   "source": [
    "prediction_test = cnb.predict(features_test)\n",
    "accuracy_test = accuracy_score(target_test, prediction_test)\n",
    "precision_test = precision_score(target_test, prediction_test)\n",
    "recall_test = recall_score(target_test, prediction_test)\n",
    "f1_test = f1_score(target_test, prediction_test)\n",
    "print(f'accuracy_test = {accuracy_test} \\n\\\n",
    "precision_test = {precision_test} \\n\\\n",
    "recall_test = {recall_test}\\n\\\n",
    "f1_test = {f1_test}')"
   ]
  },
  {
   "cell_type": "markdown",
   "metadata": {},
   "source": [
    "**Вывод** нам удалось сделать модель, которая в некоторой степени умеет классифицировать сообщения на SPAM и HAM"
   ]
  },
  {
   "cell_type": "markdown",
   "metadata": {},
   "source": []
  }
 ],
 "metadata": {
  "interpreter": {
   "hash": "aee8b7b246df8f9039afb4144a1f6fd8d2ca17a180786b69acc140d282b71a49"
  },
  "kernelspec": {
   "display_name": "Python 3.9.10 64-bit",
   "language": "python",
   "name": "python3"
  },
  "language_info": {
   "codemirror_mode": {
    "name": "ipython",
    "version": 3
   },
   "file_extension": ".py",
   "mimetype": "text/x-python",
   "name": "python",
   "nbconvert_exporter": "python",
   "pygments_lexer": "ipython3",
   "version": "3.9.10"
  },
  "orig_nbformat": 4
 },
 "nbformat": 4,
 "nbformat_minor": 2
}
